{
 "cells": [
  {
   "cell_type": "markdown",
   "id": "c5a3a0b9",
   "metadata": {},
   "source": [
    "# ZAF202310_Book_Recommendation_Service"
   ]
  },
  {
   "cell_type": "markdown",
   "id": "09e9db7e",
   "metadata": {},
   "source": [
    "## Overview\n",
    "A book recommendation system is a type of recommendation system that uses data analysis and machine learning algorithms to provide personalized book recommendations to users. These systems can be used by online bookstores, libraries, and other organizations that provide book-related services to their users.\n",
    "\n",
    "The goal of a book recommendation system is to provide users with recommendations that are tailored to their interests and preferences. This can be accomplished by analyzing user data such as past purchases, browsing history, and ratings of books. The system can also take into account other factors such as genre, author, and publication date to provide more relevant recommendations."
   ]
  },
  {
   "cell_type": "markdown",
   "id": "5cf6349e",
   "metadata": {},
   "source": [
    "## Methodology\n",
    "In this project, we will be following methodology mentioned below:\n",
    "\n",
    "- Data collection: Collect data on book ratings from users. This data can be obtained from a variety of sources such as online bookstores, library systems, or social media platforms.\n",
    "\n",
    "- Data preprocessing: Clean and preprocess the data to ensure that it is in a usable format. This may involve removing duplicates, handling missing data, and transforming the data into a matrix or other format that can be used by the recommendation algorithm.\n",
    "\n",
    "- User similarity calculation: Calculate the similarity between users based on their book ratings. There are several methods for calculating similarity, such as Pearson correlation or cosine similarity.\n",
    "\n",
    "- Neighborhood selection: Identify a set of similar users (known as the \"neighborhood\") for each user in the dataset. This can be done by setting a threshold similarity score or selecting a fixed number of neighbors.\n",
    "\n",
    "- Prediction calculation: Predict the rating that a user would give to a particular book by taking a weighted average of the ratings given to that book by the user's neighbors. The weights can be based on the similarity between the user and their neighbors.\n",
    "\n",
    "- Recommendation generation: Generate a list of recommended books for each user based on their predicted ratings. The number of recommended books can be customized based on user preferences.\n",
    "\n",
    "- Evaluation: Evaluate the performance of the recommendation system using metrics such as precision, recall, and mean absolute error. These metrics can be used to fine-tune the system and improve its performance."
   ]
  },
  {
   "cell_type": "markdown",
   "id": "1c94d0b6",
   "metadata": {},
   "source": [
    "## Business Segments\n",
    "1. Retail\n",
    "2. E-Commerce\n"
   ]
  },
  {
   "cell_type": "markdown",
   "id": "c6fdf228",
   "metadata": {},
   "source": [
    "## Data\n",
    "1. Book Recommendation System - [Link](https://www.kaggle.com/datasets/arashnic/book-recommendation-dataset)"
   ]
  },
  {
   "cell_type": "markdown",
   "id": "c11a20f9",
   "metadata": {},
   "source": [
    "## Papers\n",
    "- Collaborative Filtering Recommender Systems - [Link](https://www.researchgate.net/publication/200121027_Collaborative_Filtering_Recommender_Systems)"
   ]
  },
  {
   "cell_type": "markdown",
   "id": "d7fc6247",
   "metadata": {},
   "source": [
    "## 1. Load Dataset"
   ]
  },
  {
   "cell_type": "code",
   "execution_count": 1,
   "id": "d960e974",
   "metadata": {
    "execution": {
     "iopub.execute_input": "2023-04-01T11:39:15.397278Z",
     "iopub.status.busy": "2023-04-01T11:39:15.396276Z",
     "iopub.status.idle": "2023-04-01T11:39:15.401632Z",
     "shell.execute_reply": "2023-04-01T11:39:15.400632Z",
     "shell.execute_reply.started": "2023-04-01T11:39:15.397237Z"
    }
   },
   "outputs": [],
   "source": [
    "# Importing Libraries\n",
    "import numpy as np\n",
    "import pandas as pd\n",
    "from sklearn.metrics.pairwise import cosine_similarity\n",
    "from scipy.sparse import csr_matrix\n",
    "from sklearn.neighbors import NearestNeighbors"
   ]
  },
  {
   "cell_type": "code",
   "execution_count": 2,
   "id": "7fda86c4",
   "metadata": {
    "execution": {
     "iopub.execute_input": "2023-04-01T11:30:40.170861Z",
     "iopub.status.busy": "2023-04-01T11:30:40.170498Z",
     "iopub.status.idle": "2023-04-01T11:30:44.933510Z",
     "shell.execute_reply": "2023-04-01T11:30:44.931428Z",
     "shell.execute_reply.started": "2023-04-01T11:30:40.170825Z"
    }
   },
   "outputs": [
    {
     "name": "stderr",
     "output_type": "stream",
     "text": [
      "C:\\Users\\shubh\\AppData\\Local\\Temp\\ipykernel_41248\\2789344668.py:2: DtypeWarning: Columns (3) have mixed types. Specify dtype option on import or set low_memory=False.\n",
      "  books_df = pd.read_csv('data/Books.csv')\n"
     ]
    }
   ],
   "source": [
    "# Reading the csv files\n",
    "books_df = pd.read_csv('data/Books.csv')\n",
    "ratings_df = pd.read_csv('data/Ratings.csv')\n",
    "user_df = pd.read_csv('data/Users.csv')"
   ]
  },
  {
   "cell_type": "markdown",
   "id": "9fba6dd0",
   "metadata": {},
   "source": [
    "## 2. Data Preprocessing"
   ]
  },
  {
   "cell_type": "code",
   "execution_count": 3,
   "id": "082379ff",
   "metadata": {
    "execution": {
     "iopub.execute_input": "2023-04-01T11:30:59.724319Z",
     "iopub.status.busy": "2023-04-01T11:30:59.723598Z",
     "iopub.status.idle": "2023-04-01T11:31:01.104395Z",
     "shell.execute_reply": "2023-04-01T11:31:01.103315Z",
     "shell.execute_reply.started": "2023-04-01T11:30:59.724280Z"
    }
   },
   "outputs": [],
   "source": [
    "# Merging data into one dataframe\n",
    "book_ratings_df = ratings_df.merge(books_df, on='ISBN')\n",
    "user_book_ratings_df = book_ratings_df.merge(user_df, on='User-ID')"
   ]
  },
  {
   "cell_type": "code",
   "execution_count": 4,
   "id": "96e1cc30",
   "metadata": {
    "execution": {
     "iopub.execute_input": "2023-04-01T11:31:01.857802Z",
     "iopub.status.busy": "2023-04-01T11:31:01.856866Z",
     "iopub.status.idle": "2023-04-01T11:31:01.884442Z",
     "shell.execute_reply": "2023-04-01T11:31:01.883138Z",
     "shell.execute_reply.started": "2023-04-01T11:31:01.857753Z"
    }
   },
   "outputs": [
    {
     "data": {
      "text/html": [
       "<div>\n",
       "<style scoped>\n",
       "    .dataframe tbody tr th:only-of-type {\n",
       "        vertical-align: middle;\n",
       "    }\n",
       "\n",
       "    .dataframe tbody tr th {\n",
       "        vertical-align: top;\n",
       "    }\n",
       "\n",
       "    .dataframe thead th {\n",
       "        text-align: right;\n",
       "    }\n",
       "</style>\n",
       "<table border=\"1\" class=\"dataframe\">\n",
       "  <thead>\n",
       "    <tr style=\"text-align: right;\">\n",
       "      <th></th>\n",
       "      <th>User-ID</th>\n",
       "      <th>ISBN</th>\n",
       "      <th>Book-Rating</th>\n",
       "      <th>Book-Title</th>\n",
       "      <th>Book-Author</th>\n",
       "      <th>Year-Of-Publication</th>\n",
       "      <th>Publisher</th>\n",
       "      <th>Image-URL-S</th>\n",
       "      <th>Image-URL-M</th>\n",
       "      <th>Image-URL-L</th>\n",
       "      <th>Location</th>\n",
       "      <th>Age</th>\n",
       "    </tr>\n",
       "  </thead>\n",
       "  <tbody>\n",
       "    <tr>\n",
       "      <th>0</th>\n",
       "      <td>276725</td>\n",
       "      <td>034545104X</td>\n",
       "      <td>0</td>\n",
       "      <td>Flesh Tones: A Novel</td>\n",
       "      <td>M. J. Rose</td>\n",
       "      <td>2002</td>\n",
       "      <td>Ballantine Books</td>\n",
       "      <td>http://images.amazon.com/images/P/034545104X.0...</td>\n",
       "      <td>http://images.amazon.com/images/P/034545104X.0...</td>\n",
       "      <td>http://images.amazon.com/images/P/034545104X.0...</td>\n",
       "      <td>tyler, texas, usa</td>\n",
       "      <td>NaN</td>\n",
       "    </tr>\n",
       "    <tr>\n",
       "      <th>1</th>\n",
       "      <td>2313</td>\n",
       "      <td>034545104X</td>\n",
       "      <td>5</td>\n",
       "      <td>Flesh Tones: A Novel</td>\n",
       "      <td>M. J. Rose</td>\n",
       "      <td>2002</td>\n",
       "      <td>Ballantine Books</td>\n",
       "      <td>http://images.amazon.com/images/P/034545104X.0...</td>\n",
       "      <td>http://images.amazon.com/images/P/034545104X.0...</td>\n",
       "      <td>http://images.amazon.com/images/P/034545104X.0...</td>\n",
       "      <td>cincinnati, ohio, usa</td>\n",
       "      <td>23.0</td>\n",
       "    </tr>\n",
       "    <tr>\n",
       "      <th>2</th>\n",
       "      <td>2313</td>\n",
       "      <td>0812533550</td>\n",
       "      <td>9</td>\n",
       "      <td>Ender's Game (Ender Wiggins Saga (Paperback))</td>\n",
       "      <td>Orson Scott Card</td>\n",
       "      <td>1986</td>\n",
       "      <td>Tor Books</td>\n",
       "      <td>http://images.amazon.com/images/P/0812533550.0...</td>\n",
       "      <td>http://images.amazon.com/images/P/0812533550.0...</td>\n",
       "      <td>http://images.amazon.com/images/P/0812533550.0...</td>\n",
       "      <td>cincinnati, ohio, usa</td>\n",
       "      <td>23.0</td>\n",
       "    </tr>\n",
       "    <tr>\n",
       "      <th>3</th>\n",
       "      <td>2313</td>\n",
       "      <td>0679745580</td>\n",
       "      <td>8</td>\n",
       "      <td>In Cold Blood (Vintage International)</td>\n",
       "      <td>TRUMAN CAPOTE</td>\n",
       "      <td>1994</td>\n",
       "      <td>Vintage</td>\n",
       "      <td>http://images.amazon.com/images/P/0679745580.0...</td>\n",
       "      <td>http://images.amazon.com/images/P/0679745580.0...</td>\n",
       "      <td>http://images.amazon.com/images/P/0679745580.0...</td>\n",
       "      <td>cincinnati, ohio, usa</td>\n",
       "      <td>23.0</td>\n",
       "    </tr>\n",
       "    <tr>\n",
       "      <th>4</th>\n",
       "      <td>2313</td>\n",
       "      <td>0060173289</td>\n",
       "      <td>9</td>\n",
       "      <td>Divine Secrets of the Ya-Ya Sisterhood : A Novel</td>\n",
       "      <td>Rebecca Wells</td>\n",
       "      <td>1996</td>\n",
       "      <td>HarperCollins</td>\n",
       "      <td>http://images.amazon.com/images/P/0060173289.0...</td>\n",
       "      <td>http://images.amazon.com/images/P/0060173289.0...</td>\n",
       "      <td>http://images.amazon.com/images/P/0060173289.0...</td>\n",
       "      <td>cincinnati, ohio, usa</td>\n",
       "      <td>23.0</td>\n",
       "    </tr>\n",
       "  </tbody>\n",
       "</table>\n",
       "</div>"
      ],
      "text/plain": [
       "   User-ID        ISBN  Book-Rating  \\\n",
       "0   276725  034545104X            0   \n",
       "1     2313  034545104X            5   \n",
       "2     2313  0812533550            9   \n",
       "3     2313  0679745580            8   \n",
       "4     2313  0060173289            9   \n",
       "\n",
       "                                         Book-Title       Book-Author  \\\n",
       "0                              Flesh Tones: A Novel        M. J. Rose   \n",
       "1                              Flesh Tones: A Novel        M. J. Rose   \n",
       "2     Ender's Game (Ender Wiggins Saga (Paperback))  Orson Scott Card   \n",
       "3             In Cold Blood (Vintage International)     TRUMAN CAPOTE   \n",
       "4  Divine Secrets of the Ya-Ya Sisterhood : A Novel     Rebecca Wells   \n",
       "\n",
       "  Year-Of-Publication         Publisher  \\\n",
       "0                2002  Ballantine Books   \n",
       "1                2002  Ballantine Books   \n",
       "2                1986         Tor Books   \n",
       "3                1994           Vintage   \n",
       "4                1996     HarperCollins   \n",
       "\n",
       "                                         Image-URL-S  \\\n",
       "0  http://images.amazon.com/images/P/034545104X.0...   \n",
       "1  http://images.amazon.com/images/P/034545104X.0...   \n",
       "2  http://images.amazon.com/images/P/0812533550.0...   \n",
       "3  http://images.amazon.com/images/P/0679745580.0...   \n",
       "4  http://images.amazon.com/images/P/0060173289.0...   \n",
       "\n",
       "                                         Image-URL-M  \\\n",
       "0  http://images.amazon.com/images/P/034545104X.0...   \n",
       "1  http://images.amazon.com/images/P/034545104X.0...   \n",
       "2  http://images.amazon.com/images/P/0812533550.0...   \n",
       "3  http://images.amazon.com/images/P/0679745580.0...   \n",
       "4  http://images.amazon.com/images/P/0060173289.0...   \n",
       "\n",
       "                                         Image-URL-L               Location  \\\n",
       "0  http://images.amazon.com/images/P/034545104X.0...      tyler, texas, usa   \n",
       "1  http://images.amazon.com/images/P/034545104X.0...  cincinnati, ohio, usa   \n",
       "2  http://images.amazon.com/images/P/0812533550.0...  cincinnati, ohio, usa   \n",
       "3  http://images.amazon.com/images/P/0679745580.0...  cincinnati, ohio, usa   \n",
       "4  http://images.amazon.com/images/P/0060173289.0...  cincinnati, ohio, usa   \n",
       "\n",
       "    Age  \n",
       "0   NaN  \n",
       "1  23.0  \n",
       "2  23.0  \n",
       "3  23.0  \n",
       "4  23.0  "
      ]
     },
     "execution_count": 4,
     "metadata": {},
     "output_type": "execute_result"
    }
   ],
   "source": [
    "# First look at data\n",
    "user_book_ratings_df.head()"
   ]
  },
  {
   "cell_type": "code",
   "execution_count": 5,
   "id": "961beb10",
   "metadata": {
    "execution": {
     "iopub.execute_input": "2023-04-01T11:31:04.332564Z",
     "iopub.status.busy": "2023-04-01T11:31:04.332052Z",
     "iopub.status.idle": "2023-04-01T11:31:05.238226Z",
     "shell.execute_reply": "2023-04-01T11:31:05.235831Z",
     "shell.execute_reply.started": "2023-04-01T11:31:04.332515Z"
    }
   },
   "outputs": [],
   "source": [
    "# Creating a dictionary of unique Book-Titles and creating a new column\n",
    "book_2_id_dict = {}\n",
    "for idx, book in enumerate(user_book_ratings_df['Book-Title'].unique()):\n",
    "    book_2_id_dict[book] = idx\n",
    "user_book_ratings_df['Book-ID'] = user_book_ratings_df['Book-Title'].map(book_2_id_dict)"
   ]
  },
  {
   "cell_type": "code",
   "execution_count": 6,
   "id": "bc790652",
   "metadata": {
    "execution": {
     "iopub.execute_input": "2023-04-01T11:31:42.929887Z",
     "iopub.status.busy": "2023-04-01T11:31:42.928951Z",
     "iopub.status.idle": "2023-04-01T11:31:43.041702Z",
     "shell.execute_reply": "2023-04-01T11:31:43.040597Z",
     "shell.execute_reply.started": "2023-04-01T11:31:42.929835Z"
    }
   },
   "outputs": [],
   "source": [
    "# Creating a dictionary of unique User-IDs and creating a new column\n",
    "user_dict = {}\n",
    "for idx, user in enumerate(user_book_ratings_df['User-ID'].unique()):\n",
    "    user_dict[user] = idx\n",
    "user_book_ratings_df['New-User-ID'] = user_book_ratings_df['User-ID'].map(user_dict)"
   ]
  },
  {
   "cell_type": "code",
   "execution_count": 7,
   "id": "218b40be",
   "metadata": {
    "execution": {
     "iopub.execute_input": "2023-04-01T11:41:17.838223Z",
     "iopub.status.busy": "2023-04-01T11:41:17.837475Z",
     "iopub.status.idle": "2023-04-01T11:41:17.863523Z",
     "shell.execute_reply": "2023-04-01T11:41:17.862502Z",
     "shell.execute_reply.started": "2023-04-01T11:41:17.838185Z"
    }
   },
   "outputs": [],
   "source": [
    "# Creating Final DF to use\n",
    "final_df = user_book_ratings_df[['New-User-ID', 'Book-Title', 'Book-Rating']]"
   ]
  },
  {
   "cell_type": "code",
   "execution_count": 8,
   "id": "b87c3c7d",
   "metadata": {
    "execution": {
     "iopub.execute_input": "2023-04-01T11:41:19.472489Z",
     "iopub.status.busy": "2023-04-01T11:41:19.472086Z",
     "iopub.status.idle": "2023-04-01T11:41:19.505906Z",
     "shell.execute_reply": "2023-04-01T11:41:19.504783Z",
     "shell.execute_reply.started": "2023-04-01T11:41:19.472430Z"
    }
   },
   "outputs": [
    {
     "data": {
      "text/html": [
       "<div>\n",
       "<style scoped>\n",
       "    .dataframe tbody tr th:only-of-type {\n",
       "        vertical-align: middle;\n",
       "    }\n",
       "\n",
       "    .dataframe tbody tr th {\n",
       "        vertical-align: top;\n",
       "    }\n",
       "\n",
       "    .dataframe thead th {\n",
       "        text-align: right;\n",
       "    }\n",
       "</style>\n",
       "<table border=\"1\" class=\"dataframe\">\n",
       "  <thead>\n",
       "    <tr style=\"text-align: right;\">\n",
       "      <th></th>\n",
       "      <th>User-ID</th>\n",
       "      <th>Book-Title</th>\n",
       "      <th>Book-Rating</th>\n",
       "    </tr>\n",
       "  </thead>\n",
       "  <tbody>\n",
       "    <tr>\n",
       "      <th>0</th>\n",
       "      <td>0</td>\n",
       "      <td>Flesh Tones: A Novel</td>\n",
       "      <td>0</td>\n",
       "    </tr>\n",
       "    <tr>\n",
       "      <th>1</th>\n",
       "      <td>1</td>\n",
       "      <td>Flesh Tones: A Novel</td>\n",
       "      <td>5</td>\n",
       "    </tr>\n",
       "    <tr>\n",
       "      <th>2</th>\n",
       "      <td>1</td>\n",
       "      <td>Ender's Game (Ender Wiggins Saga (Paperback))</td>\n",
       "      <td>9</td>\n",
       "    </tr>\n",
       "    <tr>\n",
       "      <th>3</th>\n",
       "      <td>1</td>\n",
       "      <td>In Cold Blood (Vintage International)</td>\n",
       "      <td>8</td>\n",
       "    </tr>\n",
       "    <tr>\n",
       "      <th>4</th>\n",
       "      <td>1</td>\n",
       "      <td>Divine Secrets of the Ya-Ya Sisterhood : A Novel</td>\n",
       "      <td>9</td>\n",
       "    </tr>\n",
       "  </tbody>\n",
       "</table>\n",
       "</div>"
      ],
      "text/plain": [
       "   User-ID                                        Book-Title  Book-Rating\n",
       "0        0                              Flesh Tones: A Novel            0\n",
       "1        1                              Flesh Tones: A Novel            5\n",
       "2        1     Ender's Game (Ender Wiggins Saga (Paperback))            9\n",
       "3        1             In Cold Blood (Vintage International)            8\n",
       "4        1  Divine Secrets of the Ya-Ya Sisterhood : A Novel            9"
      ]
     },
     "execution_count": 8,
     "metadata": {},
     "output_type": "execute_result"
    }
   ],
   "source": [
    "# Final DF look\n",
    "final_df = final_df.rename(columns={'New-User-ID': 'User-ID'})\n",
    "final_df.head()"
   ]
  },
  {
   "cell_type": "markdown",
   "id": "71dda0e7",
   "metadata": {},
   "source": [
    "## 3. Data Preparation"
   ]
  },
  {
   "cell_type": "code",
   "execution_count": 9,
   "id": "78f4fd5f",
   "metadata": {
    "execution": {
     "iopub.execute_input": "2023-04-01T11:41:33.542274Z",
     "iopub.status.busy": "2023-04-01T11:41:33.541391Z",
     "iopub.status.idle": "2023-04-01T11:41:34.126111Z",
     "shell.execute_reply": "2023-04-01T11:41:34.124952Z",
     "shell.execute_reply.started": "2023-04-01T11:41:33.542237Z"
    }
   },
   "outputs": [],
   "source": [
    "# Filtering out books with < 200 num of ratings\n",
    "num_ratings = final_df.groupby('Book-Title').count()['Book-Rating'].to_frame()\n",
    "num_ratings.columns = ['Num-Ratings']\n",
    "num_ratings.reset_index(inplace=True)\n",
    "num_ratings = num_ratings[num_ratings['Num-Ratings'] > 200]"
   ]
  },
  {
   "cell_type": "code",
   "execution_count": 10,
   "id": "c7e98b5a",
   "metadata": {
    "execution": {
     "iopub.execute_input": "2023-04-01T11:41:40.361173Z",
     "iopub.status.busy": "2023-04-01T11:41:40.360640Z",
     "iopub.status.idle": "2023-04-01T11:41:40.615194Z",
     "shell.execute_reply": "2023-04-01T11:41:40.614142Z",
     "shell.execute_reply.started": "2023-04-01T11:41:40.361138Z"
    }
   },
   "outputs": [],
   "source": [
    "# Merging num_ratings with final_df and dropping duplicate values\n",
    "merged_df = num_ratings.merge(final_df, on='Book-Title')\n",
    "merged_df.drop_duplicates(['Book-Title', 'User-ID'], inplace=True)"
   ]
  },
  {
   "cell_type": "code",
   "execution_count": 11,
   "id": "bd440dfa",
   "metadata": {
    "execution": {
     "iopub.execute_input": "2023-04-01T11:41:48.081814Z",
     "iopub.status.busy": "2023-04-01T11:41:48.081324Z",
     "iopub.status.idle": "2023-04-01T11:41:48.206220Z",
     "shell.execute_reply": "2023-04-01T11:41:48.205124Z",
     "shell.execute_reply.started": "2023-04-01T11:41:48.081779Z"
    }
   },
   "outputs": [],
   "source": [
    "# Creating a pivot table and filling na values with 0\n",
    "pivot_df = merged_df.pivot(index='Book-Title', columns='User-ID',\n",
    "               values='Book-Rating').fillna(0)\n"
   ]
  },
  {
   "cell_type": "code",
   "execution_count": 12,
   "id": "01acb5d1",
   "metadata": {
    "execution": {
     "iopub.execute_input": "2023-04-01T11:41:52.172727Z",
     "iopub.status.busy": "2023-04-01T11:41:52.171645Z",
     "iopub.status.idle": "2023-04-01T11:41:52.240661Z",
     "shell.execute_reply": "2023-04-01T11:41:52.239131Z",
     "shell.execute_reply.started": "2023-04-01T11:41:52.172691Z"
    }
   },
   "outputs": [
    {
     "data": {
      "text/html": [
       "<div>\n",
       "<style scoped>\n",
       "    .dataframe tbody tr th:only-of-type {\n",
       "        vertical-align: middle;\n",
       "    }\n",
       "\n",
       "    .dataframe tbody tr th {\n",
       "        vertical-align: top;\n",
       "    }\n",
       "\n",
       "    .dataframe thead th {\n",
       "        text-align: right;\n",
       "    }\n",
       "</style>\n",
       "<table border=\"1\" class=\"dataframe\">\n",
       "  <thead>\n",
       "    <tr style=\"text-align: right;\">\n",
       "      <th>User-ID</th>\n",
       "      <th>1</th>\n",
       "      <th>2</th>\n",
       "      <th>3</th>\n",
       "      <th>4</th>\n",
       "      <th>5</th>\n",
       "      <th>7</th>\n",
       "      <th>10</th>\n",
       "      <th>11</th>\n",
       "      <th>13</th>\n",
       "      <th>14</th>\n",
       "      <th>...</th>\n",
       "      <th>86771</th>\n",
       "      <th>86783</th>\n",
       "      <th>87269</th>\n",
       "      <th>87551</th>\n",
       "      <th>87731</th>\n",
       "      <th>87740</th>\n",
       "      <th>88303</th>\n",
       "      <th>89458</th>\n",
       "      <th>89891</th>\n",
       "      <th>91827</th>\n",
       "    </tr>\n",
       "    <tr>\n",
       "      <th>Book-Title</th>\n",
       "      <th></th>\n",
       "      <th></th>\n",
       "      <th></th>\n",
       "      <th></th>\n",
       "      <th></th>\n",
       "      <th></th>\n",
       "      <th></th>\n",
       "      <th></th>\n",
       "      <th></th>\n",
       "      <th></th>\n",
       "      <th></th>\n",
       "      <th></th>\n",
       "      <th></th>\n",
       "      <th></th>\n",
       "      <th></th>\n",
       "      <th></th>\n",
       "      <th></th>\n",
       "      <th></th>\n",
       "      <th></th>\n",
       "      <th></th>\n",
       "      <th></th>\n",
       "    </tr>\n",
       "  </thead>\n",
       "  <tbody>\n",
       "    <tr>\n",
       "      <th>1984</th>\n",
       "      <td>0.0</td>\n",
       "      <td>0.0</td>\n",
       "      <td>5.0</td>\n",
       "      <td>0.0</td>\n",
       "      <td>0.0</td>\n",
       "      <td>0.0</td>\n",
       "      <td>0.0</td>\n",
       "      <td>0.0</td>\n",
       "      <td>0.0</td>\n",
       "      <td>0.0</td>\n",
       "      <td>...</td>\n",
       "      <td>0.0</td>\n",
       "      <td>0.0</td>\n",
       "      <td>0.0</td>\n",
       "      <td>0.0</td>\n",
       "      <td>0.0</td>\n",
       "      <td>0.0</td>\n",
       "      <td>0.0</td>\n",
       "      <td>0.0</td>\n",
       "      <td>0.0</td>\n",
       "      <td>10.0</td>\n",
       "    </tr>\n",
       "    <tr>\n",
       "      <th>1st to Die: A Novel</th>\n",
       "      <td>0.0</td>\n",
       "      <td>9.0</td>\n",
       "      <td>0.0</td>\n",
       "      <td>0.0</td>\n",
       "      <td>0.0</td>\n",
       "      <td>0.0</td>\n",
       "      <td>0.0</td>\n",
       "      <td>0.0</td>\n",
       "      <td>0.0</td>\n",
       "      <td>8.0</td>\n",
       "      <td>...</td>\n",
       "      <td>0.0</td>\n",
       "      <td>0.0</td>\n",
       "      <td>0.0</td>\n",
       "      <td>0.0</td>\n",
       "      <td>0.0</td>\n",
       "      <td>0.0</td>\n",
       "      <td>0.0</td>\n",
       "      <td>0.0</td>\n",
       "      <td>0.0</td>\n",
       "      <td>0.0</td>\n",
       "    </tr>\n",
       "    <tr>\n",
       "      <th>2nd Chance</th>\n",
       "      <td>0.0</td>\n",
       "      <td>0.0</td>\n",
       "      <td>0.0</td>\n",
       "      <td>0.0</td>\n",
       "      <td>0.0</td>\n",
       "      <td>0.0</td>\n",
       "      <td>0.0</td>\n",
       "      <td>0.0</td>\n",
       "      <td>0.0</td>\n",
       "      <td>0.0</td>\n",
       "      <td>...</td>\n",
       "      <td>0.0</td>\n",
       "      <td>0.0</td>\n",
       "      <td>0.0</td>\n",
       "      <td>0.0</td>\n",
       "      <td>0.0</td>\n",
       "      <td>0.0</td>\n",
       "      <td>0.0</td>\n",
       "      <td>0.0</td>\n",
       "      <td>0.0</td>\n",
       "      <td>0.0</td>\n",
       "    </tr>\n",
       "    <tr>\n",
       "      <th>A Bend in the Road</th>\n",
       "      <td>0.0</td>\n",
       "      <td>0.0</td>\n",
       "      <td>0.0</td>\n",
       "      <td>0.0</td>\n",
       "      <td>0.0</td>\n",
       "      <td>0.0</td>\n",
       "      <td>0.0</td>\n",
       "      <td>0.0</td>\n",
       "      <td>0.0</td>\n",
       "      <td>0.0</td>\n",
       "      <td>...</td>\n",
       "      <td>0.0</td>\n",
       "      <td>0.0</td>\n",
       "      <td>0.0</td>\n",
       "      <td>0.0</td>\n",
       "      <td>0.0</td>\n",
       "      <td>0.0</td>\n",
       "      <td>0.0</td>\n",
       "      <td>0.0</td>\n",
       "      <td>0.0</td>\n",
       "      <td>0.0</td>\n",
       "    </tr>\n",
       "    <tr>\n",
       "      <th>A Case of Need</th>\n",
       "      <td>0.0</td>\n",
       "      <td>0.0</td>\n",
       "      <td>0.0</td>\n",
       "      <td>0.0</td>\n",
       "      <td>0.0</td>\n",
       "      <td>0.0</td>\n",
       "      <td>0.0</td>\n",
       "      <td>0.0</td>\n",
       "      <td>0.0</td>\n",
       "      <td>0.0</td>\n",
       "      <td>...</td>\n",
       "      <td>0.0</td>\n",
       "      <td>0.0</td>\n",
       "      <td>0.0</td>\n",
       "      <td>0.0</td>\n",
       "      <td>0.0</td>\n",
       "      <td>0.0</td>\n",
       "      <td>0.0</td>\n",
       "      <td>0.0</td>\n",
       "      <td>0.0</td>\n",
       "      <td>0.0</td>\n",
       "    </tr>\n",
       "    <tr>\n",
       "      <th>...</th>\n",
       "      <td>...</td>\n",
       "      <td>...</td>\n",
       "      <td>...</td>\n",
       "      <td>...</td>\n",
       "      <td>...</td>\n",
       "      <td>...</td>\n",
       "      <td>...</td>\n",
       "      <td>...</td>\n",
       "      <td>...</td>\n",
       "      <td>...</td>\n",
       "      <td>...</td>\n",
       "      <td>...</td>\n",
       "      <td>...</td>\n",
       "      <td>...</td>\n",
       "      <td>...</td>\n",
       "      <td>...</td>\n",
       "      <td>...</td>\n",
       "      <td>...</td>\n",
       "      <td>...</td>\n",
       "      <td>...</td>\n",
       "      <td>...</td>\n",
       "    </tr>\n",
       "    <tr>\n",
       "      <th>Wild Animus</th>\n",
       "      <td>0.0</td>\n",
       "      <td>0.0</td>\n",
       "      <td>0.0</td>\n",
       "      <td>0.0</td>\n",
       "      <td>0.0</td>\n",
       "      <td>0.0</td>\n",
       "      <td>0.0</td>\n",
       "      <td>0.0</td>\n",
       "      <td>8.0</td>\n",
       "      <td>2.0</td>\n",
       "      <td>...</td>\n",
       "      <td>0.0</td>\n",
       "      <td>0.0</td>\n",
       "      <td>0.0</td>\n",
       "      <td>0.0</td>\n",
       "      <td>0.0</td>\n",
       "      <td>0.0</td>\n",
       "      <td>0.0</td>\n",
       "      <td>0.0</td>\n",
       "      <td>0.0</td>\n",
       "      <td>0.0</td>\n",
       "    </tr>\n",
       "    <tr>\n",
       "      <th>Wish You Well</th>\n",
       "      <td>0.0</td>\n",
       "      <td>0.0</td>\n",
       "      <td>0.0</td>\n",
       "      <td>0.0</td>\n",
       "      <td>0.0</td>\n",
       "      <td>0.0</td>\n",
       "      <td>0.0</td>\n",
       "      <td>0.0</td>\n",
       "      <td>0.0</td>\n",
       "      <td>0.0</td>\n",
       "      <td>...</td>\n",
       "      <td>0.0</td>\n",
       "      <td>0.0</td>\n",
       "      <td>0.0</td>\n",
       "      <td>0.0</td>\n",
       "      <td>0.0</td>\n",
       "      <td>0.0</td>\n",
       "      <td>0.0</td>\n",
       "      <td>0.0</td>\n",
       "      <td>0.0</td>\n",
       "      <td>0.0</td>\n",
       "    </tr>\n",
       "    <tr>\n",
       "      <th>Without Remorse</th>\n",
       "      <td>0.0</td>\n",
       "      <td>0.0</td>\n",
       "      <td>0.0</td>\n",
       "      <td>0.0</td>\n",
       "      <td>0.0</td>\n",
       "      <td>0.0</td>\n",
       "      <td>0.0</td>\n",
       "      <td>0.0</td>\n",
       "      <td>0.0</td>\n",
       "      <td>0.0</td>\n",
       "      <td>...</td>\n",
       "      <td>0.0</td>\n",
       "      <td>0.0</td>\n",
       "      <td>0.0</td>\n",
       "      <td>0.0</td>\n",
       "      <td>0.0</td>\n",
       "      <td>0.0</td>\n",
       "      <td>0.0</td>\n",
       "      <td>0.0</td>\n",
       "      <td>0.0</td>\n",
       "      <td>0.0</td>\n",
       "    </tr>\n",
       "    <tr>\n",
       "      <th>Zen and the Art of Motorcycle Maintenance: An Inquiry into Values</th>\n",
       "      <td>0.0</td>\n",
       "      <td>0.0</td>\n",
       "      <td>0.0</td>\n",
       "      <td>0.0</td>\n",
       "      <td>0.0</td>\n",
       "      <td>0.0</td>\n",
       "      <td>0.0</td>\n",
       "      <td>0.0</td>\n",
       "      <td>0.0</td>\n",
       "      <td>0.0</td>\n",
       "      <td>...</td>\n",
       "      <td>0.0</td>\n",
       "      <td>0.0</td>\n",
       "      <td>0.0</td>\n",
       "      <td>0.0</td>\n",
       "      <td>0.0</td>\n",
       "      <td>0.0</td>\n",
       "      <td>0.0</td>\n",
       "      <td>0.0</td>\n",
       "      <td>0.0</td>\n",
       "      <td>0.0</td>\n",
       "    </tr>\n",
       "    <tr>\n",
       "      <th>\\O\\\" Is for Outlaw\"</th>\n",
       "      <td>0.0</td>\n",
       "      <td>0.0</td>\n",
       "      <td>0.0</td>\n",
       "      <td>0.0</td>\n",
       "      <td>0.0</td>\n",
       "      <td>0.0</td>\n",
       "      <td>0.0</td>\n",
       "      <td>0.0</td>\n",
       "      <td>0.0</td>\n",
       "      <td>8.0</td>\n",
       "      <td>...</td>\n",
       "      <td>0.0</td>\n",
       "      <td>0.0</td>\n",
       "      <td>0.0</td>\n",
       "      <td>0.0</td>\n",
       "      <td>0.0</td>\n",
       "      <td>0.0</td>\n",
       "      <td>0.0</td>\n",
       "      <td>0.0</td>\n",
       "      <td>0.0</td>\n",
       "      <td>0.0</td>\n",
       "    </tr>\n",
       "  </tbody>\n",
       "</table>\n",
       "<p>293 rows × 27719 columns</p>\n",
       "</div>"
      ],
      "text/plain": [
       "User-ID                                             1      2      3      \\\n",
       "Book-Title                                                                \n",
       "1984                                                  0.0    0.0    5.0   \n",
       "1st to Die: A Novel                                   0.0    9.0    0.0   \n",
       "2nd Chance                                            0.0    0.0    0.0   \n",
       "A Bend in the Road                                    0.0    0.0    0.0   \n",
       "A Case of Need                                        0.0    0.0    0.0   \n",
       "...                                                   ...    ...    ...   \n",
       "Wild Animus                                           0.0    0.0    0.0   \n",
       "Wish You Well                                         0.0    0.0    0.0   \n",
       "Without Remorse                                       0.0    0.0    0.0   \n",
       "Zen and the Art of Motorcycle Maintenance: An I...    0.0    0.0    0.0   \n",
       "\\O\\\" Is for Outlaw\"                                   0.0    0.0    0.0   \n",
       "\n",
       "User-ID                                             4      5      7      \\\n",
       "Book-Title                                                                \n",
       "1984                                                  0.0    0.0    0.0   \n",
       "1st to Die: A Novel                                   0.0    0.0    0.0   \n",
       "2nd Chance                                            0.0    0.0    0.0   \n",
       "A Bend in the Road                                    0.0    0.0    0.0   \n",
       "A Case of Need                                        0.0    0.0    0.0   \n",
       "...                                                   ...    ...    ...   \n",
       "Wild Animus                                           0.0    0.0    0.0   \n",
       "Wish You Well                                         0.0    0.0    0.0   \n",
       "Without Remorse                                       0.0    0.0    0.0   \n",
       "Zen and the Art of Motorcycle Maintenance: An I...    0.0    0.0    0.0   \n",
       "\\O\\\" Is for Outlaw\"                                   0.0    0.0    0.0   \n",
       "\n",
       "User-ID                                             10     11     13     \\\n",
       "Book-Title                                                                \n",
       "1984                                                  0.0    0.0    0.0   \n",
       "1st to Die: A Novel                                   0.0    0.0    0.0   \n",
       "2nd Chance                                            0.0    0.0    0.0   \n",
       "A Bend in the Road                                    0.0    0.0    0.0   \n",
       "A Case of Need                                        0.0    0.0    0.0   \n",
       "...                                                   ...    ...    ...   \n",
       "Wild Animus                                           0.0    0.0    8.0   \n",
       "Wish You Well                                         0.0    0.0    0.0   \n",
       "Without Remorse                                       0.0    0.0    0.0   \n",
       "Zen and the Art of Motorcycle Maintenance: An I...    0.0    0.0    0.0   \n",
       "\\O\\\" Is for Outlaw\"                                   0.0    0.0    0.0   \n",
       "\n",
       "User-ID                                             14     ...  86771  86783  \\\n",
       "Book-Title                                                 ...                 \n",
       "1984                                                  0.0  ...    0.0    0.0   \n",
       "1st to Die: A Novel                                   8.0  ...    0.0    0.0   \n",
       "2nd Chance                                            0.0  ...    0.0    0.0   \n",
       "A Bend in the Road                                    0.0  ...    0.0    0.0   \n",
       "A Case of Need                                        0.0  ...    0.0    0.0   \n",
       "...                                                   ...  ...    ...    ...   \n",
       "Wild Animus                                           2.0  ...    0.0    0.0   \n",
       "Wish You Well                                         0.0  ...    0.0    0.0   \n",
       "Without Remorse                                       0.0  ...    0.0    0.0   \n",
       "Zen and the Art of Motorcycle Maintenance: An I...    0.0  ...    0.0    0.0   \n",
       "\\O\\\" Is for Outlaw\"                                   8.0  ...    0.0    0.0   \n",
       "\n",
       "User-ID                                             87269  87551  87731  \\\n",
       "Book-Title                                                                \n",
       "1984                                                  0.0    0.0    0.0   \n",
       "1st to Die: A Novel                                   0.0    0.0    0.0   \n",
       "2nd Chance                                            0.0    0.0    0.0   \n",
       "A Bend in the Road                                    0.0    0.0    0.0   \n",
       "A Case of Need                                        0.0    0.0    0.0   \n",
       "...                                                   ...    ...    ...   \n",
       "Wild Animus                                           0.0    0.0    0.0   \n",
       "Wish You Well                                         0.0    0.0    0.0   \n",
       "Without Remorse                                       0.0    0.0    0.0   \n",
       "Zen and the Art of Motorcycle Maintenance: An I...    0.0    0.0    0.0   \n",
       "\\O\\\" Is for Outlaw\"                                   0.0    0.0    0.0   \n",
       "\n",
       "User-ID                                             87740  88303  89458  \\\n",
       "Book-Title                                                                \n",
       "1984                                                  0.0    0.0    0.0   \n",
       "1st to Die: A Novel                                   0.0    0.0    0.0   \n",
       "2nd Chance                                            0.0    0.0    0.0   \n",
       "A Bend in the Road                                    0.0    0.0    0.0   \n",
       "A Case of Need                                        0.0    0.0    0.0   \n",
       "...                                                   ...    ...    ...   \n",
       "Wild Animus                                           0.0    0.0    0.0   \n",
       "Wish You Well                                         0.0    0.0    0.0   \n",
       "Without Remorse                                       0.0    0.0    0.0   \n",
       "Zen and the Art of Motorcycle Maintenance: An I...    0.0    0.0    0.0   \n",
       "\\O\\\" Is for Outlaw\"                                   0.0    0.0    0.0   \n",
       "\n",
       "User-ID                                             89891  91827  \n",
       "Book-Title                                                        \n",
       "1984                                                  0.0   10.0  \n",
       "1st to Die: A Novel                                   0.0    0.0  \n",
       "2nd Chance                                            0.0    0.0  \n",
       "A Bend in the Road                                    0.0    0.0  \n",
       "A Case of Need                                        0.0    0.0  \n",
       "...                                                   ...    ...  \n",
       "Wild Animus                                           0.0    0.0  \n",
       "Wish You Well                                         0.0    0.0  \n",
       "Without Remorse                                       0.0    0.0  \n",
       "Zen and the Art of Motorcycle Maintenance: An I...    0.0    0.0  \n",
       "\\O\\\" Is for Outlaw\"                                   0.0    0.0  \n",
       "\n",
       "[293 rows x 27719 columns]"
      ]
     },
     "execution_count": 12,
     "metadata": {},
     "output_type": "execute_result"
    }
   ],
   "source": [
    "pivot_df"
   ]
  },
  {
   "cell_type": "markdown",
   "id": "7eae4719",
   "metadata": {},
   "source": [
    "## 4. Model Building"
   ]
  },
  {
   "cell_type": "code",
   "execution_count": 13,
   "id": "1983e15d",
   "metadata": {},
   "outputs": [],
   "source": [
    "from sklearn.preprocessing import MinMaxScaler"
   ]
  },
  {
   "cell_type": "code",
   "execution_count": 14,
   "id": "fdcd4cf1",
   "metadata": {},
   "outputs": [],
   "source": [
    "scalar = MinMaxScaler()\n",
    "scaled_df = scalar.fit_transform(pivot_df)"
   ]
  },
  {
   "cell_type": "code",
   "execution_count": 15,
   "id": "bf12f23b",
   "metadata": {
    "execution": {
     "iopub.execute_input": "2023-04-01T11:51:10.101570Z",
     "iopub.status.busy": "2023-04-01T11:51:10.100444Z",
     "iopub.status.idle": "2023-04-01T11:51:10.252259Z",
     "shell.execute_reply": "2023-04-01T11:51:10.250736Z",
     "shell.execute_reply.started": "2023-04-01T11:51:10.101528Z"
    }
   },
   "outputs": [],
   "source": [
    "# Creating a cosine similarity martix\n",
    "similarity_df = cosine_similarity(scaled_df)"
   ]
  },
  {
   "cell_type": "code",
   "execution_count": 16,
   "id": "9076ddca",
   "metadata": {
    "execution": {
     "iopub.execute_input": "2023-04-01T12:33:23.049405Z",
     "iopub.status.busy": "2023-04-01T12:33:23.048999Z",
     "iopub.status.idle": "2023-04-01T12:33:23.054636Z",
     "shell.execute_reply": "2023-04-01T12:33:23.053435Z",
     "shell.execute_reply.started": "2023-04-01T12:33:23.049367Z"
    }
   },
   "outputs": [],
   "source": [
    "# Initializing Nearest Neighbours model\n",
    "model = NearestNeighbors(n_neighbors=6,algorithm='brute')"
   ]
  },
  {
   "cell_type": "code",
   "execution_count": 17,
   "id": "3cfa2312",
   "metadata": {
    "execution": {
     "iopub.execute_input": "2023-04-01T12:33:26.142307Z",
     "iopub.status.busy": "2023-04-01T12:33:26.141885Z",
     "iopub.status.idle": "2023-04-01T12:33:26.150652Z",
     "shell.execute_reply": "2023-04-01T12:33:26.149216Z",
     "shell.execute_reply.started": "2023-04-01T12:33:26.142271Z"
    }
   },
   "outputs": [
    {
     "data": {
      "text/plain": [
       "NearestNeighbors(algorithm='brute', n_neighbors=6)"
      ]
     },
     "execution_count": 17,
     "metadata": {},
     "output_type": "execute_result"
    }
   ],
   "source": [
    "# Fitting model\n",
    "model.fit(similarity_df)"
   ]
  },
  {
   "cell_type": "code",
   "execution_count": 18,
   "id": "0acb6a25",
   "metadata": {
    "execution": {
     "iopub.execute_input": "2023-04-01T12:37:04.506505Z",
     "iopub.status.busy": "2023-04-01T12:37:04.505413Z",
     "iopub.status.idle": "2023-04-01T12:37:04.513828Z",
     "shell.execute_reply": "2023-04-01T12:37:04.512595Z",
     "shell.execute_reply.started": "2023-04-01T12:37:04.506429Z"
    }
   },
   "outputs": [
    {
     "name": "stdout",
     "output_type": "stream",
     "text": [
      "Sample Title: Cradle and All\n",
      "Sample Title Index: 54\n"
     ]
    }
   ],
   "source": [
    "sample_title = np.random.choice(pivot_df.index.values)\n",
    "sample_title_index = pivot_df.index.values.tolist().index(sample_title)\n",
    "print(f\"Sample Title: {sample_title}\")\n",
    "print(f\"Sample Title Index: {sample_title_index}\")"
   ]
  },
  {
   "cell_type": "markdown",
   "id": "742f29a6",
   "metadata": {},
   "source": []
  },
  {
   "cell_type": "code",
   "execution_count": 19,
   "id": "5b376527",
   "metadata": {
    "execution": {
     "iopub.execute_input": "2023-04-01T12:26:33.524891Z",
     "iopub.status.busy": "2023-04-01T12:26:33.523792Z",
     "iopub.status.idle": "2023-04-01T12:26:33.534370Z",
     "shell.execute_reply": "2023-04-01T12:26:33.532732Z",
     "shell.execute_reply.started": "2023-04-01T12:26:33.524838Z"
    }
   },
   "outputs": [],
   "source": [
    "# Retrieving suggestions and distances\n",
    "distance, suggestions = model.kneighbors(similarity_df[sample_title_index, :].reshape(1, -1))"
   ]
  },
  {
   "cell_type": "code",
   "execution_count": 20,
   "id": "080e6848",
   "metadata": {
    "execution": {
     "iopub.execute_input": "2023-04-01T12:36:15.257826Z",
     "iopub.status.busy": "2023-04-01T12:36:15.257301Z",
     "iopub.status.idle": "2023-04-01T12:36:15.269689Z",
     "shell.execute_reply": "2023-04-01T12:36:15.268474Z",
     "shell.execute_reply.started": "2023-04-01T12:36:15.257787Z"
    }
   },
   "outputs": [],
   "source": [
    "# Function to recommend\n",
    "def recommend(book_title):\n",
    "    list_of_books = pivot_df.index.values.tolist()\n",
    "    if book_title in list_of_books:\n",
    "        title_index = list_of_books.index(book_title)\n",
    "        distance, suggestions = model.kneighbors(similarity_df[title_index, :].reshape(1, -1))\n",
    "        distance, suggestions = distance[0][1:].tolist(), suggestions[0][1:].tolist()\n",
    "        book_names = [list_of_books[i] for i in suggestions]\n",
    "        recommendation_df = pd.DataFrame({'Book-Title': book_names,\n",
    "                                         'Similarity-Score': distance})\n",
    "\n",
    "        recommendation_df['Similarity-Score'] = recommendation_df['Similarity-Score'].apply(lambda x: 2.0 - x if x > 1 else x)\n",
    "        recommendation_df.sort_values('Similarity-Score', ascending=False, inplace=True)\n",
    "        print(\"-\"*50)\n",
    "        print(f\"Here are top 5 recommendation for the book title : {book_title}\")\n",
    "        print(\"-\"*50)\n",
    "        return recommendation_df\n",
    "    else:\n",
    "        print(\"ERROR: Couldn't find the Book Title in the database\")\n",
    "        print(\"-\"*50)\n",
    "        suggest_books = []\n",
    "        print(\"You can try with the below titles:\")\n",
    "        print(\"-\"*50)\n",
    "        for i in range(5):\n",
    "            print(np.random.choice(list_of_books))"
   ]
  },
  {
   "cell_type": "code",
   "execution_count": 21,
   "id": "b15ed0f8",
   "metadata": {
    "execution": {
     "iopub.execute_input": "2023-04-01T12:38:32.657445Z",
     "iopub.status.busy": "2023-04-01T12:38:32.656303Z",
     "iopub.status.idle": "2023-04-01T12:38:32.681800Z",
     "shell.execute_reply": "2023-04-01T12:38:32.680537Z",
     "shell.execute_reply.started": "2023-04-01T12:38:32.657404Z"
    }
   },
   "outputs": [
    {
     "name": "stdout",
     "output_type": "stream",
     "text": [
      "--------------------------------------------------\n",
      "Here are top 5 recommendation for the book title : Cradle and All\n",
      "--------------------------------------------------\n"
     ]
    },
    {
     "data": {
      "text/html": [
       "<div>\n",
       "<style scoped>\n",
       "    .dataframe tbody tr th:only-of-type {\n",
       "        vertical-align: middle;\n",
       "    }\n",
       "\n",
       "    .dataframe tbody tr th {\n",
       "        vertical-align: top;\n",
       "    }\n",
       "\n",
       "    .dataframe thead th {\n",
       "        text-align: right;\n",
       "    }\n",
       "</style>\n",
       "<table border=\"1\" class=\"dataframe\">\n",
       "  <thead>\n",
       "    <tr style=\"text-align: right;\">\n",
       "      <th></th>\n",
       "      <th>Book-Title</th>\n",
       "      <th>Similarity-Score</th>\n",
       "    </tr>\n",
       "  </thead>\n",
       "  <tbody>\n",
       "    <tr>\n",
       "      <th>0</th>\n",
       "      <td>Pop Goes the Weasel</td>\n",
       "      <td>0.718247</td>\n",
       "    </tr>\n",
       "    <tr>\n",
       "      <th>1</th>\n",
       "      <td>Roses Are Red (Alex Cross Novels)</td>\n",
       "      <td>0.691419</td>\n",
       "    </tr>\n",
       "    <tr>\n",
       "      <th>2</th>\n",
       "      <td>Four Blind Mice</td>\n",
       "      <td>0.691049</td>\n",
       "    </tr>\n",
       "    <tr>\n",
       "      <th>3</th>\n",
       "      <td>Violets Are Blue</td>\n",
       "      <td>0.683892</td>\n",
       "    </tr>\n",
       "    <tr>\n",
       "      <th>4</th>\n",
       "      <td>Along Came a Spider (Alex Cross Novels)</td>\n",
       "      <td>0.681862</td>\n",
       "    </tr>\n",
       "  </tbody>\n",
       "</table>\n",
       "</div>"
      ],
      "text/plain": [
       "                                Book-Title  Similarity-Score\n",
       "0                      Pop Goes the Weasel          0.718247\n",
       "1        Roses Are Red (Alex Cross Novels)          0.691419\n",
       "2                          Four Blind Mice          0.691049\n",
       "3                         Violets Are Blue          0.683892\n",
       "4  Along Came a Spider (Alex Cross Novels)          0.681862"
      ]
     },
     "execution_count": 21,
     "metadata": {},
     "output_type": "execute_result"
    }
   ],
   "source": [
    "recommend(sample_title)"
   ]
  },
  {
   "cell_type": "code",
   "execution_count": 24,
   "id": "b3082c83",
   "metadata": {},
   "outputs": [
    {
     "data": {
      "text/plain": [
       "['scalar.h5']"
      ]
     },
     "execution_count": 24,
     "metadata": {},
     "output_type": "execute_result"
    }
   ],
   "source": [
    "import joblib\n",
    "joblib.dump(model, \"model.h5\")\n",
    "pivot_df.to_csv(\"pivot_data.csv\")\n",
    "joblib.dump(scalar, \"scalar.h5\")"
   ]
  }
 ],
 "metadata": {
  "kernelspec": {
   "display_name": "Python 3 (ipykernel)",
   "language": "python",
   "name": "python3"
  },
  "language_info": {
   "codemirror_mode": {
    "name": "ipython",
    "version": 3
   },
   "file_extension": ".py",
   "mimetype": "text/x-python",
   "name": "python",
   "nbconvert_exporter": "python",
   "pygments_lexer": "ipython3",
   "version": "3.9.12"
  }
 },
 "nbformat": 4,
 "nbformat_minor": 5
}
